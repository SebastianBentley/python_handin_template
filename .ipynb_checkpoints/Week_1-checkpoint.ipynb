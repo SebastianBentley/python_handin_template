{
 "cells": [
  {
   "cell_type": "markdown",
   "metadata": {},
   "source": [
    "# Week 1 handin - by Sebastian Bentley (cph-sb287)"
   ]
  },
  {
   "cell_type": "markdown",
   "metadata": {},
   "source": [
    "# 01 Assignment\n",
    "* ##### 1. Create 5 list comprehensions to solve the following 5 problems:\n",
    "\n",
    "    * 1.1 Iterate a list of names to return a list of the names starting with H\n",
    "    \n",
    "    * 1.2 In one line create a list of the numbers 1-100 to the power of 3\n",
    "    \n",
    "    * 1.3 Iterate a list of names to create a list of tuples where the tuples first value is the length of the name and the second is the name\n",
    "    \n",
    "    * 1.4 Iterate over each character in a string and get only those that are nummeric\n",
    "    \n",
    "    * 1.5 Using only a list comprehension wrapped in set() get all possible combination from throwing 2 dice (hint use 2 for loops in a single list comprehension)\n",
    "    \n",
    "\n",
    "* ##### 2. Create 2 dictionary comprehensions to solve the following:\n",
    "\n",
    "    * 2.1 Iterate a list of names and create a dictionary where key is the name and value is the length of the name\n",
    "\n",
    "    * Iterate a list of numbers and create a dictionary with {key:value} being {number:squareroot_of_number}\n",
    "\n",
    "\n",
    "* ##### Extra assignment (This one goes beyond what is covered in the course notebooks. So only do it if you want an extra challenge).\n",
    "\n",
    " * 3.1 Progammatically using loops create a small program to produce a dictionary with all the 2 dice throw combinations as keys and their likelyhood in percent as values"
   ]
  },
  {
   "cell_type": "markdown",
   "metadata": {},
   "source": [
    "## 02 Status\n",
    "A possible solution is made for the entire assignment, including the extra assignment"
   ]
  },
  {
   "cell_type": "markdown",
   "metadata": {},
   "source": [
    "## 03 Solution part 1"
   ]
  },
  {
   "cell_type": "code",
   "execution_count": 11,
   "metadata": {},
   "outputs": [
    {
     "data": {
      "text/plain": [
       "['Hans', 'Hanne', 'Helena', 'Hugo']"
      ]
     },
     "execution_count": 11,
     "metadata": {},
     "output_type": "execute_result"
    }
   ],
   "source": [
    "# 1.1 Iterate a list of names to return a list of the names starting with H\n",
    "names = [\"Sven\", \"Ole\", \"Sofia\", \"Hans\", \"Per\", \"Hanne\", \"Helena\", \"Jens\", \"Lars\", \"Hugo\"]\n",
    "result = [name for name in names if name[0] == \"H\"]\n",
    "result"
   ]
  },
  {
   "cell_type": "code",
   "execution_count": 10,
   "metadata": {
    "collapsed": true
   },
   "outputs": [
    {
     "data": {
      "text/plain": [
       "[1,\n",
       " 8,\n",
       " 27,\n",
       " 64,\n",
       " 125,\n",
       " 216,\n",
       " 343,\n",
       " 512,\n",
       " 729,\n",
       " 1000,\n",
       " 1331,\n",
       " 1728,\n",
       " 2197,\n",
       " 2744,\n",
       " 3375,\n",
       " 4096,\n",
       " 4913,\n",
       " 5832,\n",
       " 6859,\n",
       " 8000,\n",
       " 9261,\n",
       " 10648,\n",
       " 12167,\n",
       " 13824,\n",
       " 15625,\n",
       " 17576,\n",
       " 19683,\n",
       " 21952,\n",
       " 24389,\n",
       " 27000,\n",
       " 29791,\n",
       " 32768,\n",
       " 35937,\n",
       " 39304,\n",
       " 42875,\n",
       " 46656,\n",
       " 50653,\n",
       " 54872,\n",
       " 59319,\n",
       " 64000,\n",
       " 68921,\n",
       " 74088,\n",
       " 79507,\n",
       " 85184,\n",
       " 91125,\n",
       " 97336,\n",
       " 103823,\n",
       " 110592,\n",
       " 117649,\n",
       " 125000,\n",
       " 132651,\n",
       " 140608,\n",
       " 148877,\n",
       " 157464,\n",
       " 166375,\n",
       " 175616,\n",
       " 185193,\n",
       " 195112,\n",
       " 205379,\n",
       " 216000,\n",
       " 226981,\n",
       " 238328,\n",
       " 250047,\n",
       " 262144,\n",
       " 274625,\n",
       " 287496,\n",
       " 300763,\n",
       " 314432,\n",
       " 328509,\n",
       " 343000,\n",
       " 357911,\n",
       " 373248,\n",
       " 389017,\n",
       " 405224,\n",
       " 421875,\n",
       " 438976,\n",
       " 456533,\n",
       " 474552,\n",
       " 493039,\n",
       " 512000,\n",
       " 531441,\n",
       " 551368,\n",
       " 571787,\n",
       " 592704,\n",
       " 614125,\n",
       " 636056,\n",
       " 658503,\n",
       " 681472,\n",
       " 704969,\n",
       " 729000,\n",
       " 753571,\n",
       " 778688,\n",
       " 804357,\n",
       " 830584,\n",
       " 857375,\n",
       " 884736,\n",
       " 912673,\n",
       " 941192,\n",
       " 970299,\n",
       " 1000000]"
      ]
     },
     "execution_count": 10,
     "metadata": {},
     "output_type": "execute_result"
    }
   ],
   "source": [
    "# 1.2 In one line create a list of the numbers 1-100 to the power of 3\n",
    "new_list = [value ** 3 for value in range(1, 101)]\n",
    "new_list"
   ]
  },
  {
   "cell_type": "code",
   "execution_count": 1,
   "metadata": {},
   "outputs": [
    {
     "data": {
      "text/plain": [
       "[(4, 'Sven'),\n",
       " (3, 'Ole'),\n",
       " (5, 'Sofia'),\n",
       " (4, 'Hans'),\n",
       " (3, 'Per'),\n",
       " (5, 'Hanne'),\n",
       " (6, 'Helena'),\n",
       " (4, 'Jens'),\n",
       " (4, 'Lars'),\n",
       " (4, 'Hugo')]"
      ]
     },
     "execution_count": 1,
     "metadata": {},
     "output_type": "execute_result"
    }
   ],
   "source": [
    "# 1.3 Iterate a list of names to create a list of tuples where the tuples first value is the length of the name and the second is the name\n",
    "names = [\"Sven\", \"Ole\", \"Sofia\", \"Hans\", \"Per\", \"Hanne\", \"Helena\", \"Jens\", \"Lars\", \"Hugo\"]\n",
    "name_in_tup = [tuple([len(name), name]) for name in names]\n",
    "name_in_tup"
   ]
  },
  {
   "cell_type": "code",
   "execution_count": 89,
   "metadata": {},
   "outputs": [
    {
     "data": {
      "text/plain": [
       "['0', '3', '0', '2', '2', '0', '2', '1', '1', '5', '0', '0']"
      ]
     },
     "execution_count": 89,
     "metadata": {},
     "output_type": "execute_result"
    }
   ],
   "source": [
    "# 1.4 Iterate over each character in a string and get only those that are nummeric\n",
    "random_string = \"datoen er 03-02-2021 og klokken er over 15:00\"\n",
    "nummerics = [value for value in random_string if value.isnumeric()]\n",
    "nummerics\n"
   ]
  },
  {
   "cell_type": "code",
   "execution_count": 2,
   "metadata": {
    "collapsed": true
   },
   "outputs": [
    {
     "data": {
      "text/plain": [
       "{'1+1',\n",
       " '1+2',\n",
       " '1+3',\n",
       " '1+4',\n",
       " '1+5',\n",
       " '1+6',\n",
       " '2+1',\n",
       " '2+2',\n",
       " '2+3',\n",
       " '2+4',\n",
       " '2+5',\n",
       " '2+6',\n",
       " '3+1',\n",
       " '3+2',\n",
       " '3+3',\n",
       " '3+4',\n",
       " '3+5',\n",
       " '3+6',\n",
       " '4+1',\n",
       " '4+2',\n",
       " '4+3',\n",
       " '4+4',\n",
       " '4+5',\n",
       " '4+6',\n",
       " '5+1',\n",
       " '5+2',\n",
       " '5+3',\n",
       " '5+4',\n",
       " '5+5',\n",
       " '5+6',\n",
       " '6+1',\n",
       " '6+2',\n",
       " '6+3',\n",
       " '6+4',\n",
       " '6+5',\n",
       " '6+6'}"
      ]
     },
     "execution_count": 2,
     "metadata": {},
     "output_type": "execute_result"
    }
   ],
   "source": [
    "# 1.5 Using only a list comprehension wrapped in set() get all possible combination from throwing 2 dice (hint use 2 for loops in a single list comprehension)\n",
    "numbers = ['1','2','3','4','5','6']\n",
    "set([num1 + \"+\" + num2 for num1 in numbers for num2 in numbers])"
   ]
  },
  {
   "cell_type": "markdown",
   "metadata": {},
   "source": [
    "## 04 Solution part 2"
   ]
  },
  {
   "cell_type": "code",
   "execution_count": 13,
   "metadata": {},
   "outputs": [
    {
     "data": {
      "text/plain": [
       "{'Sven': 4,\n",
       " 'Ole': 3,\n",
       " 'Sofia': 5,\n",
       " 'Hans': 4,\n",
       " 'Per': 3,\n",
       " 'Hanne': 5,\n",
       " 'Helena': 6,\n",
       " 'Jens': 4,\n",
       " 'Lars': 4,\n",
       " 'Hugo': 4}"
      ]
     },
     "execution_count": 13,
     "metadata": {},
     "output_type": "execute_result"
    }
   ],
   "source": [
    "# 2.1 Iterate a list of names and create a dictionary where key is the name and value is the length of the name\n",
    "names = [\"Sven\", \"Ole\", \"Sofia\", \"Hans\", \"Per\", \"Hanne\", \"Helena\", \"Jens\", \"Lars\", \"Hugo\"]\n",
    "dictionary = {name:len(name) for name in names}\n",
    "dictionary"
   ]
  },
  {
   "cell_type": "code",
   "execution_count": 108,
   "metadata": {},
   "outputs": [
    {
     "data": {
      "text/plain": [
       "{1: 1.0,\n",
       " 2: 1.4142135623730951,\n",
       " 3: 1.7320508075688772,\n",
       " 4: 2.0,\n",
       " 5: 2.23606797749979,\n",
       " 6: 2.449489742783178,\n",
       " 7: 2.6457513110645907,\n",
       " 8: 2.8284271247461903,\n",
       " 9: 3.0,\n",
       " 10: 3.1622776601683795}"
      ]
     },
     "execution_count": 108,
     "metadata": {},
     "output_type": "execute_result"
    }
   ],
   "source": [
    "# 2.2 Iterate a list of numbers and create a dictionary with {key:value} being {number:squareroot_of_number}\n",
    "import math\n",
    "\n",
    "numbers = range(1, 11)\n",
    "dictionary_numbers = {num:math.sqrt(num) for num in numbers}\n",
    "dictionary_numbers"
   ]
  },
  {
   "cell_type": "markdown",
   "metadata": {},
   "source": [
    "## 05 Solution part 3"
   ]
  },
  {
   "cell_type": "code",
   "execution_count": 109,
   "metadata": {},
   "outputs": [
    {
     "data": {
      "text/plain": [
       "{'1+1': 2.78,\n",
       " '1+2': 5.56,\n",
       " '1+3': 8.33,\n",
       " '1+4': 11.11,\n",
       " '1+5': 13.89,\n",
       " '1+6': 16.67,\n",
       " '2+1': 5.56,\n",
       " '2+2': 8.33,\n",
       " '2+3': 11.11,\n",
       " '2+4': 13.89,\n",
       " '2+5': 16.67,\n",
       " '2+6': 13.89,\n",
       " '3+1': 8.33,\n",
       " '3+2': 11.11,\n",
       " '3+3': 13.89,\n",
       " '3+4': 16.67,\n",
       " '3+5': 13.89,\n",
       " '3+6': 11.11,\n",
       " '4+1': 11.11,\n",
       " '4+2': 13.89,\n",
       " '4+3': 16.67,\n",
       " '4+4': 13.89,\n",
       " '4+5': 11.11,\n",
       " '4+6': 8.33,\n",
       " '5+1': 13.89,\n",
       " '5+2': 16.67,\n",
       " '5+3': 13.89,\n",
       " '5+4': 11.11,\n",
       " '5+5': 8.33,\n",
       " '5+6': 5.56,\n",
       " '6+1': 16.67,\n",
       " '6+2': 13.89,\n",
       " '6+3': 11.11,\n",
       " '6+4': 8.33,\n",
       " '6+5': 5.56,\n",
       " '6+6': 2.78}"
      ]
     },
     "execution_count": 109,
     "metadata": {},
     "output_type": "execute_result"
    }
   ],
   "source": [
    "# 3.1 Progammatically using loops create a small program to produce a dictionary with all the 2 dice throw combinations as keys and their likelyhood in percent as values\n",
    "numbers = range(1, 7)\n",
    "\n",
    "{(str(num1) + \"+\" + str(num2)): (round(combinations.count(num1 + num2) / 36 * 100, 2)) for num1 in numbers for num2 in numbers}\n",
    "\n",
    "\n"
   ]
  }
 ],
 "metadata": {
  "kernelspec": {
   "display_name": "Python 3",
   "language": "python",
   "name": "python3"
  },
  "language_info": {
   "codemirror_mode": {
    "name": "ipython",
    "version": 3
   },
   "file_extension": ".py",
   "mimetype": "text/x-python",
   "name": "python",
   "nbconvert_exporter": "python",
   "pygments_lexer": "ipython3",
   "version": "3.7.6"
  }
 },
 "nbformat": 4,
 "nbformat_minor": 4
}
