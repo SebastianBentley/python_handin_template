{
 "cells": [
  {
   "cell_type": "markdown",
   "metadata": {},
   "source": [
    "# Week 6 handin - by Sebastian Bentley (cph-sb287)"
   ]
  },
  {
   "cell_type": "markdown",
   "metadata": {},
   "source": [
    "Create a module containing a class with the following methods:\n",
    "1. init(self, url_list)\n",
    "2. download(url,filename) raises NotFoundException when url returns 404\n",
    "3. multi_download() uses threads to download multiple urls as text and stores filenames as a property\n",
    "4. iter() returns an iterator\n",
    "5. next() returns the next filename (and stops when there are no more)\n",
    "6. urllist_generator() returns a generator to loop through the urls\n",
    "7. avg_vowels(text) - a rough estimate on readability returns average number of vowels in the words of the text\n",
    "8. hardest_read() returns the filename of the text with the highest vowel score (use all the cpu cores on the computer for this work.\n",
    "\n",
    "### Ex 2\n",
    "Create a notebook and import your module from above\n",
    "1. Find 10 books on https://www.gutenberg.org/browse/scores/top and download them using an object of the class you just created before\n",
    "2. Test the different methods of your class\n",
    "3. Make a bar plot with a sorted list of books on x-axis and avg vowels on y-axis"
   ]
  },
  {
   "cell_type": "markdown",
   "metadata": {},
   "source": [
    "## 02 Status\n",
    "A possible solution is made for every exercise"
   ]
  },
  {
   "cell_type": "markdown",
   "metadata": {},
   "source": [
    "## 03 Solution part 1"
   ]
  },
  {
   "cell_type": "code",
   "execution_count": 1,
   "metadata": {},
   "outputs": [],
   "source": [
    "# Code for solution can be found at python_handin_template/modules/week6/text_comparer.py"
   ]
  },
  {
   "cell_type": "markdown",
   "metadata": {},
   "source": [
    "## 04 Solution part 2"
   ]
  },
  {
   "cell_type": "code",
   "execution_count": 2,
   "metadata": {},
   "outputs": [],
   "source": [
    "#Create a notebook and import your module from above\n",
    "from modules.week6 import text_comparer as tc\n",
    "\n",
    "#Find 10 books on https://www.gutenberg.org/browse/scores/top\n",
    "#and download them using an object of the class you just created before\n",
    "books = ['https://www.gutenberg.org/files/84/84-0.txt','https://www.gutenberg.org/files/1342/1342-0.txt','https://www.gutenberg.org/files/64317/64317-0.txt', 'https://www.gutenberg.org/files/1080/1080-0.txt','https://www.gutenberg.org/files/2542/2542-0.txt', 'https://www.gutenberg.org/files/98/98-0.txt', 'https://www.gutenberg.org/files/98/98-0.txt','https://www.gutenberg.org/files/844/844-0.txt','https://www.gutenberg.org/files/25344/25344-0.txt','https://www.gutenberg.org/cache/epub/5200/pg5200.txt']\n",
    "\n",
    "comparer = tc.TextComparer(books)\n",
    "comparer.multi_download()\n"
   ]
  },
  {
   "cell_type": "markdown",
   "metadata": {},
   "source": [
    "### Test the different methods of your class:"
   ]
  },
  {
   "cell_type": "code",
   "execution_count": 3,
   "metadata": {},
   "outputs": [
    {
     "name": "stdout",
     "output_type": "stream",
     "text": [
      "URL was not OK\n"
     ]
    }
   ],
   "source": [
    "#Test download (multi_download is tested above)\n",
    "try:\n",
    "    #This one is fine\n",
    "    comparer.download(\"https://api.chucknorris.io/jokes/random\", 'modules/week6/textfiles/test.txt')\n",
    "    #This one fails (on purpose to show exception)\n",
    "    comparer.download(\"https://www.gutenberg.org/files/84/84-0.txt/hej\", 'modules/week6/textfiles/test.txt')\n",
    "except tc.NotFoundException:\n",
    "    print(\"URL was not OK\")\n"
   ]
  },
  {
   "cell_type": "code",
   "execution_count": 4,
   "metadata": {},
   "outputs": [
    {
     "name": "stdout",
     "output_type": "stream",
     "text": [
      "<modules.week6.text_comparer.TextComparer object at 0x7f7d08294110>\n",
      "modules/week6/textfiles/file0.txt\n"
     ]
    },
    {
     "data": {
      "text/plain": [
       "['https://www.gutenberg.org/files/84/84-0.txt',\n",
       " 'https://www.gutenberg.org/files/1342/1342-0.txt',\n",
       " 'https://www.gutenberg.org/files/64317/64317-0.txt',\n",
       " 'https://www.gutenberg.org/files/1080/1080-0.txt',\n",
       " 'https://www.gutenberg.org/files/2542/2542-0.txt',\n",
       " 'https://www.gutenberg.org/files/98/98-0.txt',\n",
       " 'https://www.gutenberg.org/files/98/98-0.txt',\n",
       " 'https://www.gutenberg.org/files/844/844-0.txt',\n",
       " 'https://www.gutenberg.org/files/25344/25344-0.txt',\n",
       " 'https://www.gutenberg.org/cache/epub/5200/pg5200.txt']"
      ]
     },
     "execution_count": 4,
     "metadata": {},
     "output_type": "execute_result"
    }
   ],
   "source": [
    "#Test __iter__, __next__ and and urllist_generator\n",
    "\n",
    "#iter\n",
    "print(iter(comparer))\n",
    "\n",
    "#next\n",
    "print(next(comparer))\n",
    "\n",
    "    \n",
    "#urllist_generator\n",
    "[x for x in comparer.urllist_generator()]"
   ]
  },
  {
   "cell_type": "code",
   "execution_count": 5,
   "metadata": {},
   "outputs": [
    {
     "name": "stdout",
     "output_type": "stream",
     "text": [
      "Average in file0.txt: 1.86\n",
      "Hardest read: modules/week6/textfiles/file3.txt\n"
     ]
    }
   ],
   "source": [
    "#Test avg_vowels and hardest_read\n",
    "\n",
    "print('Average in file0.txt: ' + str(comparer.avg_vowels('modules/week6/textfiles/file0.txt')))\n",
    "\n",
    "print('Hardest read: ' + comparer.hardest_read())"
   ]
  },
  {
   "cell_type": "code",
   "execution_count": 16,
   "metadata": {},
   "outputs": [
    {
     "data": {
      "text/plain": [
       "<BarContainer object of 10 artists>"
      ]
     },
     "execution_count": 16,
     "metadata": {},
     "output_type": "execute_result"
    },
    {
     "data": {
      "image/png": "[encoded data removed]",
      "text/plain": [
       "<Figure size 1440x720 with 1 Axes>"
      ]
     },
     "metadata": {
      "needs_background": "light"
     },
     "output_type": "display_data"
    }
   ],
   "source": [
    "#Make a bar plot with a sorted list of books on x-axis and avg vowels on y-axis\n",
    "import matplotlib.pyplot as plt\n",
    "%matplotlib inline\n",
    "\n",
    "bar_dict = comparer.bar_data()\n",
    "\n",
    "x = list(bar_dict.keys())\n",
    "y = list(bar_dict.values())\n",
    "plt.figure(figsize=(20,10))\n",
    "plt.xticks(rotation=75)\n",
    "plt.title(\"Book difficulty\", fontsize=12)\n",
    "plt.xlabel(\"Book files\", fontsize=16)\n",
    "plt.ylabel(\"Avg vowel in words\", fontsize=16)\n",
    "\n",
    "plt.bar(x,y)\n",
    "\n"
   ]
  }
 ],
 "metadata": {
  "kernelspec": {
   "display_name": "Python 3",
   "language": "python",
   "name": "python3"
  },
  "language_info": {
   "codemirror_mode": {
    "name": "ipython",
    "version": 3
   },
   "file_extension": ".py",
   "mimetype": "text/x-python",
   "name": "python",
   "nbconvert_exporter": "python",
   "pygments_lexer": "ipython3",
   "version": "3.7.6"
  }
 },
 "nbformat": 4,
 "nbformat_minor": 4
}
