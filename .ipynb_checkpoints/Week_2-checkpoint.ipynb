{
 "cells": [
  {
   "cell_type": "markdown",
   "metadata": {},
   "source": [
    "# Week 1 handin - by Sebastian Bentley (cph-sb287)"
   ]
  },
  {
   "cell_type": "markdown",
   "metadata": {},
   "source": [
    "## Exercise 1\n",
    "1. Create a python file with 3 functions:\n",
    "  1. `def print_file_content(file)` that can print content of a csv file to the console\n",
    "  2. `def write_list_to_file(output_file, lst)` that can take a list of tuple and write each element to a new line in file\n",
    "    1. rewrite the function so that it gets an arbitrary number of strings instead of a list\n",
    "  3. `def read_csv(input_file)` that take a csv file and read each row into a list\n",
    "2. Add a functionality so that the file can be called from cli with 2 arguments\n",
    "  1. path to csv file\n",
    "  2. an argument `--file file_name` that if given will write the content to file_name or otherwise will print it to the console.\n",
    "3. Add a --help cli argument to describe how the module is used  \n",
    "\n",
    "## Exercise 2\n",
    "Create a module called utils.py with the following 5 functions:\n",
    "\n",
    "```python\n",
    "def get_file_names(folderpath,out=output.txt):\n",
    "    \"\"\" takes a path to a folder and writes all filenames in the folder to a specified output file\"\"\"\n",
    "\n",
    "def get_all_file_names(folderpath,out=output.txt):\n",
    "    \"\"\"takes a path to a folder and write all filenames recursively (files of all sub folders to)\"\"\"\n",
    "\n",
    "def print_line_one(file_names):\n",
    "    \"\"\"takes a list of filenames and print the first line of each\"\"\"\n",
    "\n",
    "def print_emails(file_names):\n",
    "    \"\"\"takes a list of filenames and print each line that contains an email (just look for @)\"\"\"\n",
    "\n",
    "def write_headlines(md_files, out=output.txt):\n",
    "    \"\"\"takes a list of md files and writes all headlines (lines starting with #) to a file\"\"\"\n",
    "\n",
    "```\n",
    "Make sure your module can be called both from cli and imported to another module\n",
    "Create a new module that imports utils.py and test each function."
   ]
  },
  {
   "cell_type": "markdown",
   "metadata": {},
   "source": [
    "## 02 Status\n",
    "A possible solution is made for the entire assignment."
   ]
  },
  {
   "cell_type": "markdown",
   "metadata": {},
   "source": [
    "# 03 Solution part 1\n"
   ]
  },
  {
   "cell_type": "markdown",
   "metadata": {},
   "source": [
    "#### 3.1 Add a functionality so that the file can be called from cli with 2 arguments"
   ]
  },
  {
   "cell_type": "code",
   "execution_count": null,
   "metadata": {},
   "outputs": [],
   "source": [
    "# 1. A. `def print_file_content(file)` that can print content of a csv file to the console\n",
    "from modules.week2 import exercise1 as ex1\n",
    "\n",
    "ex1.print_file_content('modules/week2/employees.csv')"
   ]
  },
  {
   "cell_type": "code",
   "execution_count": null,
   "metadata": {},
   "outputs": [],
   "source": [
    "# 1. B. def write_list_to_file(output_file, lst) that can take a list of tuple and write each element to a new line in file\n",
    "from modules.week2 import exercise1 as ex1\n",
    "\n",
    "ex1.write_list_to_file('modules/week2/writeTuples.txt', [('Sven', 'Ole'), ('Banankage', 'uden smør')])\n",
    "\n",
    "ex1.print_file_content('modules/week2/writeTuples.txt')"
   ]
  },
  {
   "cell_type": "code",
   "execution_count": null,
   "metadata": {},
   "outputs": [],
   "source": [
    "# 1.A.a rewrite the function so that it gets an arbitrary number of strings instead of a list\n",
    "from modules.week2 import exercise1 as ex1\n",
    "\n",
    "ex1.write_list_to_file2('modules/week2/writeTuples.txt', 'Sponsered', 'by','rystrouteren.dk')\n",
    "\n",
    "ex1.print_file_content('modules/week2/writeTuples.txt')"
   ]
  },
  {
   "cell_type": "code",
   "execution_count": null,
   "metadata": {},
   "outputs": [],
   "source": [
    "# 1. C. def read_csv(input_file) that take a csv file and read each row into a list\n",
    "from modules.week2 import exercise1 as ex1\n",
    "\n",
    "print(ex1.read_csv('modules/week2/employees.csv'))"
   ]
  },
  {
   "cell_type": "markdown",
   "metadata": {},
   "source": [
    "#### 3.2 Add a functionality so that the file can be called from cli with 2 arguments"
   ]
  },
  {
   "cell_type": "code",
   "execution_count": 3,
   "metadata": {},
   "outputs": [
    {
     "name": "stdout",
     "output_type": "stream",
     "text": [
      "ArgumentParser(prog='ipykernel_launcher.py', usage=None, description='Week 2 Exercise 1', formatter_class=<class 'argparse.HelpFormatter'>, conflict_handler='error', add_help=True)\n"
     ]
    }
   ],
   "source": [
    "# 2. A. path to csv file\n",
    "from modules.week2 import exercise1 as ex1\n",
    "ex1.parser.add_argument('csv_file', help=\"a csv_file\")\n",
    "print(ex1.parser)"
   ]
  },
  {
   "cell_type": "code",
   "execution_count": null,
   "metadata": {},
   "outputs": [],
   "source": [
    "# 2. B. an argument --file file_name that if given will write the content to file_name or otherwise will print it to the console.\n",
    "from modules.week2 import exercise1 as ex1\n",
    "ex1.parser.add_argument('-f', '--file', default='printMe', help='Optional file written to from csv_file')\n",
    "args = ex1.parser.parse_args();\n",
    "\n",
    "if(args.file == 'printMe'):\n",
    "    ex1.print_file_content(args.csv_file)\n",
    "else:\n",
    "    ex1.write_list_to_file(args.file, ex1.read_csv(args.csv_file))"
   ]
  },
  {
   "cell_type": "code",
   "execution_count": 2,
   "metadata": {},
   "outputs": [
    {
     "data": {
      "text/plain": [
       "'This already exists'"
      ]
     },
     "execution_count": 2,
     "metadata": {},
     "output_type": "execute_result"
    }
   ],
   "source": [
    "# 3. Add a --help cli argument to describe how the module is used\n",
    "\"This already exists\""
   ]
  },
  {
   "cell_type": "markdown",
   "metadata": {},
   "source": [
    "# 04 Solution part 2"
   ]
  },
  {
   "cell_type": "code",
   "execution_count": 21,
   "metadata": {},
   "outputs": [
    {
     "data": {
      "text/plain": [
       "'specify file using out=\"\", or check default modules/week2/output.txt'"
      ]
     },
     "execution_count": 21,
     "metadata": {},
     "output_type": "execute_result"
    }
   ],
   "source": [
    "# 1. \"\"\" takes a path to a folder and writes all filenames in the folder to a specified output file\"\"\"\n",
    "from modules.week2 import utils\n",
    "\n",
    "# utils.get_all_file_names('modules/week2/')\n",
    "\n",
    "'specify file using out=\"\", or check default modules/week2/output.txt'"
   ]
  },
  {
   "cell_type": "code",
   "execution_count": null,
   "metadata": {},
   "outputs": [],
   "source": [
    "# 2. \"\"\"takes a path to a folder and write all filenames recursively (files of all sub folders to)\"\"\"\n",
    "from modules.week2 import utils\n",
    "\n",
    "utils.get_file_names('modules/week2/')\n",
    "\n",
    "'specify file using out=\"\", or check default modules/week2/output.txt'"
   ]
  },
  {
   "cell_type": "code",
   "execution_count": null,
   "metadata": {},
   "outputs": [],
   "source": [
    "# 3. \"\"\"takes a list of filenames and print the first line of each\"\"\"\n",
    "import utils\n",
    "\n",
    "lst_files = ['modules/week2/output.txt', 'modules/week2/writeTuples.txt']\n"
   ]
  },
  {
   "cell_type": "code",
   "execution_count": null,
   "metadata": {},
   "outputs": [],
   "source": [
    "# 4. \"\"\"takes a list of filenames and print each line that contains an email (just look for @)\"\"\""
   ]
  },
  {
   "cell_type": "code",
   "execution_count": null,
   "metadata": {},
   "outputs": [],
   "source": [
    "# 5. \"\"\"takes a list of md files and writes all headlines (lines starting with #) to a file\"\"\""
   ]
  }
 ],
 "metadata": {
  "kernelspec": {
   "display_name": "Python 3",
   "language": "python",
   "name": "python3"
  },
  "language_info": {
   "codemirror_mode": {
    "name": "ipython",
    "version": 3
   },
   "file_extension": ".py",
   "mimetype": "text/x-python",
   "name": "python",
   "nbconvert_exporter": "python",
   "pygments_lexer": "ipython3",
   "version": "3.7.6"
  }
 },
 "nbformat": 4,
 "nbformat_minor": 4
}
