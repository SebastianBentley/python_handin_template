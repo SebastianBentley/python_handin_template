{
 "cells": [
  {
   "cell_type": "markdown",
   "metadata": {},
   "source": [
    "# Week 4 handin - by Sebastian Bentley (cph-sb287)"
   ]
  },
  {
   "cell_type": "markdown",
   "metadata": {},
   "source": [
    "# Week 4 Exercise with Numpy\n",
    "\n",
    "Use only numpy (not pandas) in these exercises\n",
    "#### Exercise 1\n",
    "1. Open the file './data/befkbhalderstatkode.csv'\n",
    "2. Turn the csv file into a numpy ndarray with `np.genfromtxt(filename, delimiter=',', dtype=np.uint, skip_header=1)`\n",
    "3. Using this data:\n",
    "```python\n",
    "neighb = {1: 'Indre By', 2: 'Østerbro', 3: 'Nørrebro', 4: 'Vesterbro/Kgs. Enghave', \n",
    "          5: 'Valby', 6: 'Vanløse', 7: 'Brønshøj-Husum', 8: 'Bispebjerg', 9: 'Amager Øst', \n",
    "          10: 'Amager Vest', 99: 'Udenfor'}\n",
    "```\n",
    "Find out how many people lived in each of the 11 areas in 2015\n",
    "4. Make a bar plot to show the size of each city area from the smallest to the largest\n",
    "5. Create a boolean mask to find out how many people above 65 years lived in Copenhagen in 2015\n",
    "6. How many of those were from the other nordic countries (not dk)\n",
    "7. Make a line plot showing the changes of number of people in vesterbro and østerbro from 1992 to 2015\n",
    "\n",
    "#### Exercise 2  A bit harder (Extra only if you have the time)\n",
    "\n",
    "1. From \"Danmarks Statistik\" download demographic data here:\n",
    "https://api.statbank.dk/v1/data/FOLK1A/CSV?valuePresentation=Code&delimiter=Semicolon&OMR%C3%85DE=000%2C084%2C147%2C400%2C085%2C083%2C082%2C081%2C851%2C461%2C561%2C751&K%C3%98N=1%2C2&ALDER=0%2C1%2C2%2C3%2C4%2C5%2C6%2C7%2C8%2C9%2C10%2C11%2C12%2C13%2C14%2C15%2C16%2C17%2C18%2C19%2C20%2C21%2C22%2C23%2C24%2C25%2C26%2C27%2C28%2C29%2C30%2C31%2C32%2C33%2C34%2C35%2C36%2C37%2C3%2C39%2C40%2C41%2C42%2C43%2C44%2C45%2C46%2C47%2C48%2C49%2C50%2C51%2C52%2C53%2C54%2C55%2C56%2C57%2C58%2C59%2C60%2C61%2C62%2C63%2C64%2C65%2C66%2C67%2C68%2C69%2C70%2C71%2C72%2C73%2C74%2C75%2C76%2C77%2C78%2C79%2C80%2C81%2C82%2C83%2C84%2C85%2C86%2C87%2C88%2C89%2C90%2C91%2C92%2C93%2C94%2C95%2C96%2C97%2C98%2C99%2C100&Tid=2008K1%2C2009K1%2C2010K1%2C2011K1%2C2012K1%2C2013K1%2C2014K1%2C2015K1%2C2016K1%2C2017K1%2C2018K1%2C2019K1%2C2020K1\n",
    "\n",
    "\n",
    "2. clean up the data so it only contains numbers. (If you find this hard to do then Pandas can help (we will cover it next week)\n",
    "```python\n",
    "import pandas as pd \n",
    "url = 'url from above here'\n",
    "df = pd.read_csv(url,sep=';')\n",
    "df['TID'] = df['TID'].map(lambda x:x[:-2]) #cut the last 2 characters\n",
    "df.to_csv('demografic_cleaned.csv',header=False, index=False)\n",
    "```\n",
    "Now you have csv data with columns: OMRÅDE;KØN;ALDER;TID;INDHOLD\n",
    "3. Now load your demographic data with numpy. (Hint: use np.loadtxt() with dtype and delimiter).\n",
    "4. Use file: BY_KODER_demographics.csv to get cities from the city codes\n",
    "5. Now find out which city in 2020 has the highest percentage of men (gender code 1),(Hint: create a function to return summed up data by city code ala: def summed_by_city(city_code): returning pct_male \n",
    "6. Create a line chart with 5 lines showing population changes in the 5 largest cities from 2008 to 2020\n"
   ]
  },
  {
   "cell_type": "markdown",
   "metadata": {},
   "source": [
    "## 02 Status\n",
    "A possible solution was made for Exercise 1, however I did not have the time to make the optional assignment.\n",
    "\n",
    "It seemed there might be many posible solutions for all exercises."
   ]
  },
  {
   "cell_type": "markdown",
   "metadata": {},
   "source": [
    "## 03 Solution part 1"
   ]
  },
  {
   "cell_type": "code",
   "execution_count": 46,
   "metadata": {},
   "outputs": [
    {
     "name": "stdout",
     "output_type": "stream",
     "text": [
      "People in areas 2015:\n",
      "{'Indre By': 51937, 'Østerbro': 75113, 'Nørrebro': 78802, 'Vesterbro/Kgs. Enghave': 61623, 'Valby': 51727, 'Vanløse': 39537, 'Brønshøj-Husum': 43908, 'Bispebjerg': 53604, 'Amager Øst': 55205, 'Amager Vest': 64967, 'Udenfor': 3872}\n"
     ]
    }
   ],
   "source": [
    "import numpy as np\n",
    "import matplotlib.pyplot as plt\n",
    "#Open the file './data/befkbhalderstatkode.csv'\n",
    "filename = '/home/jovyan/data/befkbhalderstatkode.csv'\n",
    "\n",
    "#Turn the csv file into a numpy ndarray with np.genfromtxt(filename, delimiter=',', dtype=np.uint, skip_header=1)\n",
    "dd = np.genfromtxt(filename, delimiter=',', dtype=np.uint, skip_header=1)\n",
    "\n",
    "#Using this data:\n",
    "neighb = {1: 'Indre By', 2: 'Østerbro', 3: 'Nørrebro', 4: 'Vesterbro/Kgs. Enghave', \n",
    "       5: 'Valby', 6: 'Vanløse', 7: 'Brønshøj-Husum', 8: 'Bispebjerg', 9: 'Amager Øst', \n",
    "       10: 'Amager Vest', 99: 'Udenfor'}\n",
    "\n",
    "\n",
    "#Find out how many people lived in each of the 11 areas in 2015\n",
    "def people_in_areas(n, mask):\n",
    "    all_people_in_given_n = dd[mask & (dd[:,1] == n)]\n",
    "    sum_of_people = all_people_in_given_n[:,4].sum() \n",
    "    return sum_of_people\n",
    "    \n",
    "mask_2015 = (dd[:,0] == 2015)\n",
    "result = np.array([people_in_areas(n, mask_2015) for n in neighb.keys()])\n",
    "zip_res = zip(neighb.values(), result)\n",
    "\n",
    "print(f'People in areas 2015:\\n{dict(zip_res)}')\n"
   ]
  },
  {
   "cell_type": "code",
   "execution_count": 47,
   "metadata": {},
   "outputs": [
    {
     "data": {
      "text/plain": [
       "([0, 1, 2, 3, 4, 5, 6, 7, 8, 9, 10],\n",
       " <a list of 11 Text major ticklabel objects>)"
      ]
     },
     "execution_count": 47,
     "metadata": {},
     "output_type": "execute_result"
    },
    {
     "data": {
      "image/png": "[encoded data removed]",
      "text/plain": [
       "<Figure size 432x288 with 1 Axes>"
      ]
     },
     "metadata": {
      "needs_background": "light"
     },
     "output_type": "display_data"
    }
   ],
   "source": [
    "#Make a bar plot to show the size of each city area from the smallest to the largest\n",
    "sizes = np.array([people_in_areas(n, (True)) for n in neighb.keys()])\n",
    "\n",
    "zipped = zip(neighb.values(), sizes)\n",
    "sized_dict = dict(zipped)\n",
    "sorted_size= {k: v for k, v in sorted(sized_dict.items(), key=lambda item: item[1])}\n",
    "\n",
    "plt.bar(sorted_size.keys(), sorted_size.values())\n",
    "plt.xticks(rotation=45)"
   ]
  },
  {
   "cell_type": "code",
   "execution_count": 48,
   "metadata": {},
   "outputs": [
    {
     "name": "stdout",
     "output_type": "stream",
     "text": [
      "[False False False ... False False False]\n",
      "People above 65 in 2015: 2639\n"
     ]
    }
   ],
   "source": [
    "#Create a boolean mask to find out how many people above 65 years lived in Copenhagen in 2015\n",
    "mask1 = (dd[:,0] == 2015) & (dd[:,2] > 65)\n",
    "print(mask1)\n",
    "\n",
    "print(f'People above 65 in 2015: {sum(mask1)}')"
   ]
  },
  {
   "cell_type": "code",
   "execution_count": 49,
   "metadata": {},
   "outputs": [
    {
     "name": "stdout",
     "output_type": "stream",
     "text": [
      "[False False False ... False False False]\n",
      "People above 65 in 2015 not in dk: 2249\n"
     ]
    }
   ],
   "source": [
    "#How many of those were from the other nordic countries (not dk)\n",
    "mask2 = (dd[:,0] == 2015) & (dd[:,2] > 65) & (dd[:,3] != 5100)\n",
    "print(mask2)\n",
    "print(f'People above 65 in 2015 not in dk: {sum(mask2)}')"
   ]
  },
  {
   "cell_type": "code",
   "execution_count": 50,
   "metadata": {},
   "outputs": [
    {
     "data": {
      "text/plain": [
       "Text(0, 0.5, 'People')"
      ]
     },
     "execution_count": 50,
     "metadata": {},
     "output_type": "execute_result"
    },
    {
     "data": {
      "image/png": "[encoded data removed]",
      "text/plain": [
       "<Figure size 432x288 with 1 Axes>"
      ]
     },
     "metadata": {
      "needs_background": "light"
     },
     "output_type": "display_data"
    }
   ],
   "source": [
    "#Make a line plot showing the changes of number of people in vesterbro (2) and østerbro (4) from 1992 to 2015\n",
    "years = range(1992, 2016)\n",
    "\n",
    "def people_in_areas_(n, mask):\n",
    "    all_people_in_given_n = dd[mask & (dd[:,1] == n)]\n",
    "    sum_of_people = all_people_in_given_n[:,4].sum() \n",
    "    return sum_of_people\n",
    "\n",
    "vesterbro = []\n",
    "østerbro = []\n",
    "for y in years:\n",
    "    mask = (dd[:,0] == y)\n",
    "    vesterbro.append(people_in_areas(2, mask))\n",
    "    østerbro.append(people_in_areas(4, mask))\n",
    "\n",
    "\n",
    "plt.plot(years, vesterbro, label=\"Vesterbro\")\n",
    "plt.plot(years, østerbro)\n",
    "plt.xlabel('Year')\n",
    "plt.ylabel('People')\n"
   ]
  }
 ],
 "metadata": {
  "kernelspec": {
   "display_name": "Python 3",
   "language": "python",
   "name": "python3"
  },
  "language_info": {
   "codemirror_mode": {
    "name": "ipython",
    "version": 3
   },
   "file_extension": ".py",
   "mimetype": "text/x-python",
   "name": "python",
   "nbconvert_exporter": "python",
   "pygments_lexer": "ipython3",
   "version": "3.7.6"
  }
 },
 "nbformat": 4,
 "nbformat_minor": 4
}
